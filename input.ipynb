{
 "cells": [
  {
   "cell_type": "code",
   "execution_count": null,
   "metadata": {},
   "outputs": [],
   "source": [
    "import numpy as np\n",
    "import math\n",
    "from Configuration import Mechanism"
   ]
  },
  {
   "cell_type": "code",
   "execution_count": null,
   "metadata": {},
   "outputs": [],
   "source": [
    "length_AB = float(input(\"输入LAB\"))\n",
    "length_BC = float(input(\"输入LBC\"))\n",
    "length_CD = float(input(\"输入LCD\"))\n",
    "length_DE = length_HM = length_AN = float(input(\"输入LDE=LHM=LAN\"))\n",
    "length_EF = float(input(\"输入LEF\"))\n",
    "length_DG = length_EK = float(input(\"输入LDG=LEK\"))\n",
    "length_AG = length_NK = float(input(\"输入LAG=LNK\"))\n",
    "length_AH = length_NM = float(input(\"输入LAH=LNM\"))"
   ]
  },
  {
   "cell_type": "code",
   "execution_count": null,
   "metadata": {},
   "outputs": [],
   "source": [
    "beta1 = beta2 = float(input(\"输入角度HAG和MNK（角度制）\"))\n",
    "beta3 = float(input(\"输入EF与水平夹角（角度制）\"))"
   ]
  },
  {
   "cell_type": "code",
   "execution_count": null,
   "metadata": {},
   "outputs": [],
   "source": [
    "print(\"轨迹方程选项，角度从小到大填\")\n",
    "print(\"1. 3-4-5\")\n",
    "print(\"2. 4-5-6-7\")"
   ]
  },
  {
   "cell_type": "markdown",
   "metadata": {},
   "source": [
    "区间list\n",
    "公式选择（1，2）"
   ]
  },
  {
   "cell_type": "code",
   "execution_count": null,
   "metadata": {},
   "outputs": [],
   "source": [
    "interval_lst = []\n",
    "formula_lst = []\n",
    "h_lst = []\n",
    "beta_lst = []\n",
    "j = 0\n",
    "while j != 360:\n",
    "    i = float(input(\"输入左区间\"))\n",
    "    j = float(input(\"输入右区间\"))\n",
    "    if i > j:\n",
    "        print(\"错误区间\")\n",
    "        continue\n",
    "    formula = int(input(\"选择轨迹方程\"))\n",
    "    h = float(input(\"输入参数h\"))\n",
    "    beta = float(input(\"输入参数beta1\"))\n",
    "    h_lst.append(h)\n",
    "    beta_lst.append(beta)\n",
    "    interval_lst.append((i, j))\n",
    "    formula_lst.append(formula)"
   ]
  },
  {
   "cell_type": "code",
   "execution_count": null,
   "metadata": {},
   "outputs": [],
   "source": [
    "endpoint_lst = []\n",
    "for index in range(0, len(interval_lst)):\n",
    "    for theta in [round(num,1) for num in np.arange(interval_lst[index][0], interval_lst[index][1] + 0.5, 0.5)]:\n",
    "        if formula_lst[index] == 1:\n",
    "            s = h_lst[index] * (10 * pow(theta/beta_lst[index], 3) - 15 * pow(theta/beta_lst[index], 4) + 6 * pow(theta/beta_lst[index], 5))\n",
    "        else:\n",
    "            s = h_lst[index] * (35 * pow(theta/beta_lst[index], 4) - 84 * pow(theta/beta_lst[index], 5) + 70 * pow(theta/beta_lst[index], 6) - 20 * pow(theta/beta_lst[index], 7))\n",
    "        endpoint_lst.append((s * math.cos(theta), s * math.sin(theta)))"
   ]
  }
 ],
 "metadata": {
  "interpreter": {
   "hash": "d802afc020482effc208fb85b4f477288376675f6c5418a4bcad3af04517afbb"
  },
  "kernelspec": {
   "display_name": "Python 3.8.5 ('base')",
   "language": "python",
   "name": "python3"
  },
  "language_info": {
   "codemirror_mode": {
    "name": "ipython",
    "version": 3
   },
   "file_extension": ".py",
   "mimetype": "text/x-python",
   "name": "python",
   "nbconvert_exporter": "python",
   "pygments_lexer": "ipython3",
   "version": "3.8.5"
  },
  "orig_nbformat": 4
 },
 "nbformat": 4,
 "nbformat_minor": 2
}
