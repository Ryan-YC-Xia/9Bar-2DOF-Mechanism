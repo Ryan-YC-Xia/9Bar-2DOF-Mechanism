{
 "cells": [
  {
   "cell_type": "code",
   "execution_count": 5,
   "metadata": {},
   "outputs": [],
   "source": [
    "import numpy\n",
    "import math"
   ]
  },
  {
   "cell_type": "code",
   "execution_count": 2,
   "metadata": {},
   "outputs": [],
   "source": [
    "length_AB = float(input(\"输入LAB\"))\n",
    "length_BC = float(input(\"输入LBC\"))\n",
    "length_CD = float(input(\"输入LCD\"))\n",
    "length_DE = length_HM = length_AN = float(input(\"输入LDE=LHM=LAN\"))\n",
    "length_EF = float(input(\"输入LEF\"))\n",
    "length_DG = length_EK = float(input(\"输入LDG=LEK\"))\n",
    "length_AG = length_NK = float(input(\"输入LAG=LNK\"))\n",
    "length_AH = length_NM = float(input(\"输入LAH=LNM\"))"
   ]
  },
  {
   "cell_type": "code",
   "execution_count": 4,
   "metadata": {},
   "outputs": [],
   "source": [
    "beta1 = beta2 = float(input(\"输入角度HAG和MNK（角度制）\"))\n",
    "beta3 = float(input(\"输入EF与水平夹角（角度制）\"))"
   ]
  },
  {
   "cell_type": "code",
   "execution_count": null,
   "metadata": {},
   "outputs": [],
   "source": [
    "print(\"轨迹方程选项\")\n",
    "print(\"1. 3-4-5\")\n",
    "print(\"2. 4-5-6-7\")"
   ]
  },
  {
   "cell_type": "markdown",
   "metadata": {},
   "source": [
    "区间list\n",
    "公式选择（1，2）"
   ]
  },
  {
   "cell_type": "code",
   "execution_count": 8,
   "metadata": {},
   "outputs": [],
   "source": [
    "i = 0\n",
    "j = 0\n",
    "interval_lst = []\n",
    "formula_lst = []\n",
    "while j != 360:\n",
    "    i = float(input(\"输入左区间\"))\n",
    "    j = float(input(\"输入右区间\"))\n",
    "    if i > j:\n",
    "        print(\"错误区间\")\n",
    "        continue\n",
    "    formula = int(input(\"选择轨迹方程\"))\n",
    "    interval_lst.append((i, j))\n",
    "    formula_lst.append(formula)"
   ]
  },
  {
   "cell_type": "code",
   "execution_count": 9,
   "metadata": {},
   "outputs": [
    {
     "data": {
      "text/plain": [
       "[1, 2, 1]"
      ]
     },
     "execution_count": 9,
     "metadata": {},
     "output_type": "execute_result"
    }
   ],
   "source": [
    "formula_lst"
   ]
  },
  {
   "cell_type": "code",
   "execution_count": 10,
   "metadata": {},
   "outputs": [
    {
     "data": {
      "text/plain": [
       "[(0.0, 60.0), (60.0, 270.0), (270.0, 360.0)]"
      ]
     },
     "execution_count": 10,
     "metadata": {},
     "output_type": "execute_result"
    }
   ],
   "source": [
    "interval_lst"
   ]
  },
  {
   "cell_type": "code",
   "execution_count": null,
   "metadata": {},
   "outputs": [],
   "source": []
  }
 ],
 "metadata": {
  "interpreter": {
   "hash": "d802afc020482effc208fb85b4f477288376675f6c5418a4bcad3af04517afbb"
  },
  "kernelspec": {
   "display_name": "Python 3.8.5 ('base')",
   "language": "python",
   "name": "python3"
  },
  "language_info": {
   "codemirror_mode": {
    "name": "ipython",
    "version": 3
   },
   "file_extension": ".py",
   "mimetype": "text/x-python",
   "name": "python",
   "nbconvert_exporter": "python",
   "pygments_lexer": "ipython3",
   "version": "3.8.5"
  },
  "orig_nbformat": 4
 },
 "nbformat": 4,
 "nbformat_minor": 2
}
